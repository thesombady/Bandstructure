{
 "cells": [
  {
   "cell_type": "markdown",
   "metadata": {},
   "source": [
    "## The great 1 dimensional bandstructure function\n",
    " **Autors:** *Klára Nováková* and *Andris Potrebko* with a vital teoretical support of *Andreas Wacker*, *Tor Sjöstrand* and *Hofmanns* book *Solid State Physics*\n",
    " \n",
    "**Year:** *2019*\n",
    "\n",
    "* If you are looking at this file from the universities computer which is used for the lab, then please leave everything exactly the way it was before.\n",
    "\n",
    "* The file is structured to be able to run cell by cell. If any of the variable is unclear, it is possible to create a new cell by pressing *Esc* and then *A* and play around. The shortcut to delete cell: *Esc* and then *D+D*.\n",
    "\n",
    "* In the following document, the one dimensional bandstructure of a crystal is solved using the Plane wave basis approximation (further described in the lab manual, here only a summary of presented, stating main variables).\n",
    "\n",
    "* In this case the atomic potential is approximated by the Gaussian potential $V(x)=-U\\sum_n e^{-(x-na)^2/2\\sigma^2}$. This potential can be written in the Fourier components as $V(x)=\\sum_{G_j}-U\\sqrt {2\\pi}\\frac{\\sigma}{a}e^{-G^2_j \\sigma^2/2} e^{i G_j x} \\equiv  \\sum_{G_j} V_{G_j} \\cdot e^{i G_j x}$,\n",
    "where $G_j$ is a reciprocal lattice vector.\n",
    "\n",
    "* The ampliture of $V_G$, we denote as $A$, that is $A \\equiv -U\\sqrt {2\\pi}\\frac{\\sigma}{a}$ and  $V_G = A e^{-G^2 \\sigma^2/2} $.\n",
    "\n",
    "* In order to obtain the energy spectrum or the band structure we need to solve the following eigenvalue equation:\n",
    "$\\Big( \\frac{\\hbar^2 (k+K)^2}{2m} - \\varepsilon \\Big) c_{k+K} +\\sum_G c_{k+K-G} V_G$ and search for $\\varepsilon$ - the energy eigenvalues.\n"
   ]
  },
  {
   "cell_type": "markdown",
   "metadata": {},
   "source": [
    "### Necessary imports"
   ]
  },
  {
   "cell_type": "code",
   "execution_count": 1,
   "metadata": {},
   "outputs": [],
   "source": [
    "# Usual imports\n",
    "import matplotlib.pyplot as plt\n",
    "%matplotlib notebook \n",
    "import numpy as np\n",
    "\n",
    "# pretty print all cell's output and not just the last one\n",
    "from IPython.core.interactiveshell import InteractiveShell\n",
    "InteractiveShell.ast_node_interactivity = \"all\"\n",
    "\n",
    "# Widgets imports\n",
    "import ipywidgets as widgets\n",
    "from ipywidgets import interact, interactive\n",
    "from IPython.display import display\n",
    "from ipywidgets import HBox, Label\n",
    "from ipywidgets import IntSlider"
   ]
  },
  {
   "cell_type": "markdown",
   "metadata": {},
   "source": [
    "There are many variables involving *k* but it is important that you note the differences;\n",
    "* *K* the reciprocal lattice vector and *k* the wave vector $k\\in [-\\pi/a; \\pi/a]$ \n",
    "* The number of *k* vectors in our lattice is *Len_k*\n",
    "* *MaxK* is the maximal reciprocal lattice vector we consider to include in the sum ($K$ or $K-G$) thus the summation goes from *-MaxK* to *MaxK*."
   ]
  },
  {
   "cell_type": "markdown",
   "metadata": {},
   "source": [
    "### Definition of initial values"
   ]
  },
  {
   "cell_type": "code",
   "execution_count": null,
   "metadata": {},
   "outputs": [],
   "source": [
    "a = 3  # Lattice constant in Ångstrongs\n",
    "sigma = 0.5  # Very arbitrary value\n",
    "U = 11  # eV\n",
    "maxK = 6\n",
    "Len_k = 15  # How fine to calculate the band structure\n",
    "NrOfK = maxK*2+1\n",
    "A = -U*np.sqrt(2 * np.pi)*sigma/a"
   ]
  },
  {
   "cell_type": "markdown",
   "metadata": {},
   "source": [
    "*BandStructureFunction.ipynb* file contains a function *BandStructF* which creates the matrix for the eigenvalue equation described above and solves for the eigenvalues - energies.\n",
    "*%run* is one of the so-called magic functions and does the import of the function found in the file *BandStructureFunction.ipynb*."
   ]
  },
  {
   "cell_type": "code",
   "execution_count": null,
   "metadata": {},
   "outputs": [],
   "source": [
    "%run BandStructureFunction.ipynb"
   ]
  },
  {
   "cell_type": "markdown",
   "metadata": {},
   "source": [
    "Solve eigenvalue equation for each wave number *k*\n",
    "* Put k vector into right magnitude.  Before *k* is some integer $k =.. -2,-1,0,1..$. Save the obtained value in *kVect*\n",
    "* Save calculated energies in *Energies*\n",
    "* Uncomment \"%%time\" to measure the calculation time of the cell"
   ]
  },
  {
   "cell_type": "code",
   "execution_count": null,
   "metadata": {},
   "outputs": [],
   "source": [
    "# %%time\n",
    "Energies = np.zeros(shape=(Len_k*2+1, NrOfK))\n",
    "# Vector for plotting containing all of the k values in 1/Angstrom\n",
    "kVect = [0]*(Len_k*2+1)\n",
    "for ki in range(-Len_k, Len_k+1):  # k vector for which we are calculating\n",
    "    k = np.pi/(a)*ki/Len_k\n",
    "#     %run BandStructureFunction.ipynb\n",
    "    E = BandStructF()\n",
    "    Energies[ki+Len_k] = np.real(E)\n",
    "    kVect[ki+Len_k] = k  # in 1/Angstrom"
   ]
  },
  {
   "cell_type": "markdown",
   "metadata": {},
   "source": [
    "## Plots"
   ]
  },
  {
   "cell_type": "markdown",
   "metadata": {},
   "source": [
    "### Plot potential\n",
    "\n",
    "Plots are hidden so that they would not appear when running the interface. To make the plots visible either comment out the lines containg *%%capture* or comment out the cell containing *fig*."
   ]
  },
  {
   "cell_type": "code",
   "execution_count": null,
   "metadata": {},
   "outputs": [],
   "source": [
    "%%capture\n",
    "from matplotlib import pyplot as plt\n",
    "# If you want to display the figure here, then uncomment previous line\n",
    "%matplotlib notebook\n",
    "%matplotlib notebook\n",
    "fig, [ax, ax2] = plt.subplots(nrows=1, ncols=2)  # Two plots in the same figure\n",
    "fig.set_size_inches(9.5, 3.5)\n",
    "fig.subplots_adjust(wspace=0.4, bottom=0.2)  # Margins around the subplots\n",
    "\n",
    "\n",
    "x = np.linspace(-5*a, 5*a, 401)\n",
    "# length of the x vector should be an odd number so that 0 is included,\n",
    "# otherwise it does not plot the peak correctly\n",
    "Vx = -U*np.exp(-x**2/(2*sigma**2))\n",
    "VxSum = [0]*len(x)\n",
    "for n in range(-5, 6):\n",
    "    Vx1 = -U*np.exp(-(x-n*a)**2/(2*sigma**2))\n",
    "    ax.plot(x, Vx1, 'y--')\n",
    "    VxSum = VxSum+Vx1\n",
    "ax.plot(x, VxSum)\n",
    "ax.plot(x, Vx)\n",
    "ax.set(xlabel='x, ($\\AA$)', ylabel='V (eV)', title='Atomic potential')"
   ]
  },
  {
   "cell_type": "markdown",
   "metadata": {},
   "source": [
    "### Plot energies"
   ]
  },
  {
   "cell_type": "code",
   "execution_count": null,
   "metadata": {
    "scrolled": false
   },
   "outputs": [],
   "source": [
    "%%capture\n",
    "ax2.plot(kVect, Energies[:, 0:5], color='purple')\n",
    "ax2.set(xlabel='k ($1/ \\AA$)', ylabel='E (eV)', title='Band structure')"
   ]
  },
  {
   "cell_type": "code",
   "execution_count": null,
   "metadata": {},
   "outputs": [],
   "source": [
    "# fig"
   ]
  },
  {
   "cell_type": "markdown",
   "metadata": {},
   "source": [
    "### Creating an interactive user interface\n",
    "\n",
    "Function *f* repeats the steps above whenever some of the widgets are going to be used. Function *interactive* creates these widgets and connects them to the function *f*."
   ]
  },
  {
   "cell_type": "code",
   "execution_count": null,
   "metadata": {},
   "outputs": [],
   "source": [
    "def f(Lattice_Constant=a, Amplitude=U, NumKVec=maxK, PlotK=5):\n",
    "    # So that BandStructureFunction.ipynb knows the variables used in the function f\n",
    "    global a, A, k, Len_k, maxK, U, NrOfK\n",
    "    a = Lattice_Constant\n",
    "    U = Amplitude\n",
    "    maxK = NumKVec\n",
    "    A = -U*np.sqrt(2 * np.pi)*sigma/a  # np.sqrt(2*sigma)\n",
    "    NrOfK = maxK*2+1\n",
    "    Energies = np.zeros(shape=(Len_k*2+1, NrOfK))\n",
    "    kVect = [0]*(Len_k*2+1)\n",
    "    for ki in range(-Len_k, Len_k+1):\n",
    "        k = np.pi/(a)*ki/Len_k\n",
    "        E = BandStructF()\n",
    "#         %run BandStructureFunction.ipynb\n",
    "        Energies[ki+Len_k] = np.real(E)\n",
    "        kVect[ki+Len_k] = k\n",
    "    ax.cla()\n",
    "    ax.set(xlabel='x, ($\\AA$)', ylabel='V (eV)', title='Atomic potential')\n",
    "    x = np.linspace(-5*a, 5*a, 401)\n",
    "    Vx = -U*np.exp(-x**2/(2*sigma**2))\n",
    "    VxSum = [0]*len(x)\n",
    "    for n in range(-5, 6):\n",
    "        Vx1 = -U*np.exp(-(x-n*a)**2/(2*sigma**2))\n",
    "        ax.plot(x, Vx1, 'y--')\n",
    "        VxSum = VxSum+Vx1\n",
    "\n",
    "    ax.plot(x, VxSum)\n",
    "    ax.plot(x, Vx)\n",
    "\n",
    "    ax2.cla()\n",
    "    ax2.set(xlabel='k ($1/ \\AA$)', ylabel='E (eV)', title='Band structure')\n",
    "    ax2.plot(kVect, Energies[:, 0:PlotK], color='purple')\n",
    "\n",
    "    # return Energies\n",
    "\n",
    "\n",
    "The_Interaction = interactive(f, Lattice_Constant=(1, 10, 0.5), Amplitude=(\n",
    "    0, 100, 1), NumKVec=(1, 20, 1), PlotK=(0, 10, 1))"
   ]
  },
  {
   "cell_type": "code",
   "execution_count": null,
   "metadata": {},
   "outputs": [],
   "source": []
  },
  {
   "cell_type": "markdown",
   "metadata": {},
   "source": [
    "### Creating boxes for widgets that are to be displayed"
   ]
  },
  {
   "cell_type": "code",
   "execution_count": null,
   "metadata": {},
   "outputs": [],
   "source": [
    "for widg in The_Interaction.children[:-1]:\n",
    "    widg.description = \"\"\n",
    "    widg.continuous_update = False\n",
    "\n",
    "\n",
    "Lattice_Const, Potential_Amp, Num_Of_K, PlotK = [\n",
    "    The_Interaction.children[i] for i in range(4)]\n",
    "\n",
    "# display(Lattice_Const,Potential_Amp ,Num_Of_K ) #by uncommenting the widgets will be displayed here\n",
    "FirstBox = widgets.HBox([Label(r'Lattice constant (Å)'), Lattice_Const, Label(\n",
    "    r'Potential depth, (eV)'), Potential_Amp, ])\n",
    "SecondBox = widgets.HBox(\n",
    "    [Label(r'N of K vectors'), Num_Of_K, Label(r'How many bands to plot'), PlotK])"
   ]
  },
  {
   "cell_type": "markdown",
   "metadata": {},
   "source": [
    "The number of calculated bands depends on *maxK* as $2\\cdot maxK + 1$. So we set the maximal possible band to be plotted accordingly."
   ]
  },
  {
   "cell_type": "code",
   "execution_count": null,
   "metadata": {
    "scrolled": false
   },
   "outputs": [],
   "source": [
    "def PlotKMax(*args):\n",
    "    PlotK.max = 2*Num_Of_K.value+1\n",
    "\n",
    "\n",
    "Num_Of_K.observe(PlotKMax, 'value')"
   ]
  }
 ],
 "metadata": {
  "kernelspec": {
   "display_name": "Python 3",
   "language": "python",
   "name": "python3"
  },
  "language_info": {
   "codemirror_mode": {
    "name": "ipython",
    "version": 3
   },
   "file_extension": ".py",
   "mimetype": "text/x-python",
   "name": "python",
   "nbconvert_exporter": "python",
   "pygments_lexer": "ipython3",
   "version": "3.8.5"
  },
  "varInspector": {
   "cols": {
    "lenName": 16,
    "lenType": 16,
    "lenVar": 40
   },
   "kernels_config": {
    "python": {
     "delete_cmd_postfix": "",
     "delete_cmd_prefix": "del ",
     "library": "var_list.py",
     "varRefreshCmd": "print(var_dic_list())"
    },
    "r": {
     "delete_cmd_postfix": ") ",
     "delete_cmd_prefix": "rm(",
     "library": "var_list.r",
     "varRefreshCmd": "cat(var_dic_list()) "
    }
   },
   "types_to_exclude": [
    "module",
    "function",
    "builtin_function_or_method",
    "instance",
    "_Feature"
   ],
   "window_display": false
  }
 },
 "nbformat": 4,
 "nbformat_minor": 2
}
